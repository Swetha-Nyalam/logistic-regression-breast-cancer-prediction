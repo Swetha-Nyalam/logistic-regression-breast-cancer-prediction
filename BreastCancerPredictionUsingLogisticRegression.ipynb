{
 "cells": [
  {
   "cell_type": "code",
   "execution_count": 408,
   "id": "d70a8844-fdf0-4a1a-9b51-d267d09cb4fe",
   "metadata": {},
   "outputs": [],
   "source": [
    "import torch\n",
    "import torch.nn as nn\n",
    "import pandas as pd\n",
    "import numpy as np\n",
    "import matplotlib.pyplot as plt\n",
    "from sklearn.model_selection import train_test_split\n",
    "from sklearn.preprocessing import StandardScaler"
   ]
  },
  {
   "cell_type": "code",
   "execution_count": 409,
   "id": "b76b956d-0cbd-40d0-b406-3d1ea52f54db",
   "metadata": {},
   "outputs": [
    {
     "name": "stdout",
     "output_type": "stream",
     "text": [
      "(569, 33)\n"
     ]
    }
   ],
   "source": [
    "data = pd.read_csv('BreastCancer.csv')\n",
    "print(data.shape)"
   ]
  },
  {
   "cell_type": "code",
   "execution_count": 410,
   "id": "320a9211-e933-417f-a19c-70ffcbc33526",
   "metadata": {},
   "outputs": [
    {
     "data": {
      "text/plain": [
       "Index(['id', 'diagnosis', 'radius_mean', 'texture_mean', 'perimeter_mean',\n",
       "       'area_mean', 'smoothness_mean', 'compactness_mean', 'concavity_mean',\n",
       "       'concave points_mean', 'symmetry_mean', 'fractal_dimension_mean',\n",
       "       'radius_se', 'texture_se', 'perimeter_se', 'area_se', 'smoothness_se',\n",
       "       'compactness_se', 'concavity_se', 'concave points_se', 'symmetry_se',\n",
       "       'fractal_dimension_se', 'radius_worst', 'texture_worst',\n",
       "       'perimeter_worst', 'area_worst', 'smoothness_worst',\n",
       "       'compactness_worst', 'concavity_worst', 'concave points_worst',\n",
       "       'symmetry_worst', 'fractal_dimension_worst', 'Unnamed: 32'],\n",
       "      dtype='object')"
      ]
     },
     "execution_count": 410,
     "metadata": {},
     "output_type": "execute_result"
    }
   ],
   "source": [
    "# to check the number of hull values in the column\n",
    "data.isnull().sum()\n",
    "data.columns"
   ]
  },
  {
   "cell_type": "code",
   "execution_count": 411,
   "id": "7af09ae3-27e3-4a45-a5f1-b5b50c196c4f",
   "metadata": {},
   "outputs": [],
   "source": [
    "data.drop(['Unnamed: 32','id'],axis = 1, inplace = True)"
   ]
  },
  {
   "cell_type": "code",
   "execution_count": 412,
   "id": "d533d0e6-cd7a-4732-8b78-bd8c3b70f5f0",
   "metadata": {},
   "outputs": [],
   "source": [
    "target = data[\"diagnosis\"]\n",
    "data.drop(['diagnosis'],axis = 1, inplace = True)"
   ]
  },
  {
   "cell_type": "code",
   "execution_count": 413,
   "id": "b278a0a3-8fb9-439d-ad81-19bfd1ef4a54",
   "metadata": {},
   "outputs": [],
   "source": [
    "train_x, test_x, train_y, test_y = train_test_split(data, target, test_size = 0.1, random_state = 1234)"
   ]
  },
  {
   "cell_type": "code",
   "execution_count": 414,
   "id": "41b65935-2b4d-45fa-bbd8-e33e8e687faa",
   "metadata": {},
   "outputs": [
    {
     "name": "stdout",
     "output_type": "stream",
     "text": [
      "(57, 30)\n",
      "(57,)\n"
     ]
    }
   ],
   "source": [
    "print(test_x.shape)\n",
    "print(test_y.shape)"
   ]
  },
  {
   "cell_type": "code",
   "execution_count": 415,
   "id": "710cd32c-a4ed-47ff-80d0-ffced695fed0",
   "metadata": {},
   "outputs": [
    {
     "name": "stdout",
     "output_type": "stream",
     "text": [
      "[0 0 1 0 0 0 0 0 1 1 0 0 1 0 1 0 1 0 0 0 1 0 1 0 0 0 1 1 1 1 1 0 1 0 1 0 1\n",
      " 1 0 0 0 0 0 1 1 0 0 1 0 0 1 1 0 1 0 1 1 0 0 0 1 0 1 0 0 0 0 1 0 1 1 0 0 0\n",
      " 0 1 0 1 0 0 0 0 1 0 1 1 0 1 0 1 0 1 1 0 0 1 0 0 1 0 1 1 0 0 0 1 0 0 1 0 0\n",
      " 0 0 1 0 0 1 1 0 0 0 0 1 0 0 0 1 0 1 0 0 0 0 1 0 0 1 1 0 1 1 0 0 0 0 0 1 0\n",
      " 0 1 0 0 0 0 1 0 0 0 0 0 0 1 0 0 0 1 1 0 1 0 1 0 0 0 0 0 0 1 0 1 0 0 0 1 1\n",
      " 1 0 0 0 0 0 0 0 1 0 0 0 0 1 1 1 1 0 1 0 0 1 1 0 0 0 1 0 0 0 0 1 0 0 1 1 1\n",
      " 0 0 1 0 0 0 0 0 0 0 1 1 1 1 1 0 0 1 0 0 1 0 1 1 1 0 0 0 1 1 0 1 1 0 0 1 0\n",
      " 1 1 0 0 0 1 0 0 1 0 0 0 0 0 0 0 0 1 0 0 0 1 0 1 0 1 0 0 1 0 1 1 0 1 0 1 0\n",
      " 0 0 0 0 0 1 0 0 0 1 0 0 1 0 0 0 0 0 0 1 0 1 0 0 0 0 1 1 0 0 0 0 1 1 1 0 0\n",
      " 1 1 0 1 0 0 0 1 1 0 0 0 1 0 1 1 0 0 0 0 1 0 1 1 1 0 1 1 1 0 0 0 0 1 0 1 1\n",
      " 1 0 1 0 0 1 1 0 1 1 0 1 0 1 0 1 0 0 1 0 0 0 0 0 0 0 0 0 0 1 0 1 1 1 1 0 1\n",
      " 0 0 0 0 1 0 1 0 0 1 0 0 1 0 1 0 0 0 1 0 0 0 1 0 1 1 1 1 1 0 1 1 0 0 0 1 1\n",
      " 1 0 0 1 0 0 0 0 0 0 0 0 1 1 0 1 0 1 1 1 0 1 0 1 1 0 1 0 1 0 1 0 0 0 0 0 1\n",
      " 0 0 0 0 1 1 0 0 0 0 0 0 0 0 0 0 0 0 0 0 0 0 0 1 0 1 0 1 0 1 0]\n"
     ]
    }
   ],
   "source": [
    "train_y = np.where(train_y.values == 'M', 1, 0)\n",
    "\n",
    "print(train_y)"
   ]
  },
  {
   "cell_type": "code",
   "execution_count": 416,
   "id": "3b1bf72b-ce6e-49a5-8a2d-d8d1f7209910",
   "metadata": {},
   "outputs": [
    {
     "name": "stdout",
     "output_type": "stream",
     "text": [
      "[0 0 0 0 0 0 1 0 1 1 1 0 0 0 0 1 0 0 0 1 0 1 1 1 1 0 1 0 0 0 0 0 1 0 0 0 0\n",
      " 1 1 0 1 0 1 0 0 0 0 1 1 0 0 0 0 1 1 0 0]\n"
     ]
    }
   ],
   "source": [
    "test_y = np.where(test_y.values == 'M', 1, 0)\n",
    "\n",
    "print(test_y)"
   ]
  },
  {
   "cell_type": "code",
   "execution_count": 417,
   "id": "6764d4f6-2bed-48ac-96b9-fc7aaf04bb0d",
   "metadata": {},
   "outputs": [
    {
     "data": {
      "text/html": [
       "<style>#sk-container-id-14 {color: black;background-color: white;}#sk-container-id-14 pre{padding: 0;}#sk-container-id-14 div.sk-toggleable {background-color: white;}#sk-container-id-14 label.sk-toggleable__label {cursor: pointer;display: block;width: 100%;margin-bottom: 0;padding: 0.3em;box-sizing: border-box;text-align: center;}#sk-container-id-14 label.sk-toggleable__label-arrow:before {content: \"▸\";float: left;margin-right: 0.25em;color: #696969;}#sk-container-id-14 label.sk-toggleable__label-arrow:hover:before {color: black;}#sk-container-id-14 div.sk-estimator:hover label.sk-toggleable__label-arrow:before {color: black;}#sk-container-id-14 div.sk-toggleable__content {max-height: 0;max-width: 0;overflow: hidden;text-align: left;background-color: #f0f8ff;}#sk-container-id-14 div.sk-toggleable__content pre {margin: 0.2em;color: black;border-radius: 0.25em;background-color: #f0f8ff;}#sk-container-id-14 input.sk-toggleable__control:checked~div.sk-toggleable__content {max-height: 200px;max-width: 100%;overflow: auto;}#sk-container-id-14 input.sk-toggleable__control:checked~label.sk-toggleable__label-arrow:before {content: \"▾\";}#sk-container-id-14 div.sk-estimator input.sk-toggleable__control:checked~label.sk-toggleable__label {background-color: #d4ebff;}#sk-container-id-14 div.sk-label input.sk-toggleable__control:checked~label.sk-toggleable__label {background-color: #d4ebff;}#sk-container-id-14 input.sk-hidden--visually {border: 0;clip: rect(1px 1px 1px 1px);clip: rect(1px, 1px, 1px, 1px);height: 1px;margin: -1px;overflow: hidden;padding: 0;position: absolute;width: 1px;}#sk-container-id-14 div.sk-estimator {font-family: monospace;background-color: #f0f8ff;border: 1px dotted black;border-radius: 0.25em;box-sizing: border-box;margin-bottom: 0.5em;}#sk-container-id-14 div.sk-estimator:hover {background-color: #d4ebff;}#sk-container-id-14 div.sk-parallel-item::after {content: \"\";width: 100%;border-bottom: 1px solid gray;flex-grow: 1;}#sk-container-id-14 div.sk-label:hover label.sk-toggleable__label {background-color: #d4ebff;}#sk-container-id-14 div.sk-serial::before {content: \"\";position: absolute;border-left: 1px solid gray;box-sizing: border-box;top: 0;bottom: 0;left: 50%;z-index: 0;}#sk-container-id-14 div.sk-serial {display: flex;flex-direction: column;align-items: center;background-color: white;padding-right: 0.2em;padding-left: 0.2em;position: relative;}#sk-container-id-14 div.sk-item {position: relative;z-index: 1;}#sk-container-id-14 div.sk-parallel {display: flex;align-items: stretch;justify-content: center;background-color: white;position: relative;}#sk-container-id-14 div.sk-item::before, #sk-container-id-14 div.sk-parallel-item::before {content: \"\";position: absolute;border-left: 1px solid gray;box-sizing: border-box;top: 0;bottom: 0;left: 50%;z-index: -1;}#sk-container-id-14 div.sk-parallel-item {display: flex;flex-direction: column;z-index: 1;position: relative;background-color: white;}#sk-container-id-14 div.sk-parallel-item:first-child::after {align-self: flex-end;width: 50%;}#sk-container-id-14 div.sk-parallel-item:last-child::after {align-self: flex-start;width: 50%;}#sk-container-id-14 div.sk-parallel-item:only-child::after {width: 0;}#sk-container-id-14 div.sk-dashed-wrapped {border: 1px dashed gray;margin: 0 0.4em 0.5em 0.4em;box-sizing: border-box;padding-bottom: 0.4em;background-color: white;}#sk-container-id-14 div.sk-label label {font-family: monospace;font-weight: bold;display: inline-block;line-height: 1.2em;}#sk-container-id-14 div.sk-label-container {text-align: center;}#sk-container-id-14 div.sk-container {/* jupyter's `normalize.less` sets `[hidden] { display: none; }` but bootstrap.min.css set `[hidden] { display: none !important; }` so we also need the `!important` here to be able to override the default hidden behavior on the sphinx rendered scikit-learn.org. See: https://github.com/scikit-learn/scikit-learn/issues/21755 */display: inline-block !important;position: relative;}#sk-container-id-14 div.sk-text-repr-fallback {display: none;}</style><div id=\"sk-container-id-14\" class=\"sk-top-container\"><div class=\"sk-text-repr-fallback\"><pre>StandardScaler()</pre><b>In a Jupyter environment, please rerun this cell to show the HTML representation or trust the notebook. <br />On GitHub, the HTML representation is unable to render, please try loading this page with nbviewer.org.</b></div><div class=\"sk-container\" hidden><div class=\"sk-item\"><div class=\"sk-estimator sk-toggleable\"><input class=\"sk-toggleable__control sk-hidden--visually\" id=\"sk-estimator-id-14\" type=\"checkbox\" checked><label for=\"sk-estimator-id-14\" class=\"sk-toggleable__label sk-toggleable__label-arrow\">StandardScaler</label><div class=\"sk-toggleable__content\"><pre>StandardScaler()</pre></div></div></div></div></div>"
      ],
      "text/plain": [
       "StandardScaler()"
      ]
     },
     "execution_count": 417,
     "metadata": {},
     "output_type": "execute_result"
    }
   ],
   "source": [
    "sca = StandardScaler()\n",
    "sca.fit(data)"
   ]
  },
  {
   "cell_type": "code",
   "execution_count": 418,
   "id": "5de64a56-a023-41c0-88be-86985c8915d4",
   "metadata": {},
   "outputs": [],
   "source": [
    "train_x = sca.transform(train_x)\n",
    "test_x = sca.transform(test_x)"
   ]
  },
  {
   "cell_type": "code",
   "execution_count": 419,
   "id": "de29ee6d-9324-461e-895b-d941a2f80620",
   "metadata": {},
   "outputs": [
    {
     "name": "stderr",
     "output_type": "stream",
     "text": [
      "/var/folders/t3/l8scb2b52bdd8cw21j8ly1r40000gn/T/ipykernel_17488/3726554260.py:4: UserWarning: To copy construct from a tensor, it is recommended to use sourceTensor.clone().detach() or sourceTensor.clone().detach().requires_grad_(True), rather than torch.tensor(sourceTensor).\n",
      "  train_y = torch.tensor(train_y, dtype = torch.float32)\n"
     ]
    }
   ],
   "source": [
    "train_x = torch.tensor(train_x, dtype = torch.float32)\n",
    "test_x = torch.tensor(test_x, dtype = torch.float32)\n",
    "train_y = torch.tensor(train_y, dtype = torch.float32)\n",
    "train_y = torch.tensor(train_y, dtype = torch.float32)"
   ]
  },
  {
   "cell_type": "code",
   "execution_count": 420,
   "id": "07f0f510-fb81-463f-a106-0c3d841441ec",
   "metadata": {},
   "outputs": [],
   "source": [
    "class Logistic_Regression(nn.Module):\n",
    "    def __init__(self, in_params):\n",
    "        super(Logistic_Regression, self).__init__()\n",
    "        self.layer1 = nn.Linear(in_params, 1)\n",
    "        self.layer2 = nn.Sigmoid()\n",
    "    def forward(self, data):\n",
    "        out0 = self.layer1(data)\n",
    "        out1 = self.layer2(out0)\n",
    "        return out1\n"
   ]
  },
  {
   "cell_type": "code",
   "execution_count": 421,
   "id": "1f1d2c95-2679-439e-ae1a-25b399b05c6b",
   "metadata": {},
   "outputs": [],
   "source": [
    "model = Logistic_Regression(30)"
   ]
  },
  {
   "cell_type": "code",
   "execution_count": 422,
   "id": "84019bf4-0833-4df3-a8b2-a087e07c0360",
   "metadata": {},
   "outputs": [],
   "source": [
    "loss_fn = nn.BCELoss()\n",
    "optimiser = torch.optim.SGD(model.parameters(), lr = 0.1)"
   ]
  },
  {
   "cell_type": "code",
   "execution_count": 423,
   "id": "79c6a303-18d8-4cb4-a4da-e701de585766",
   "metadata": {},
   "outputs": [],
   "source": [
    "no_of_epochs = 150\n",
    "all_losses = []\n",
    "\n",
    "\n",
    "\n",
    "for epoch in range(no_of_epochs):\n",
    "    y_predict = model(train_x)\n",
    "    loss = loss_fn(y_predict.squeeze(), train_y)\n",
    "    all_losses.append(loss.detach().numpy())\n",
    "    optimiser.zero_grad()\n",
    "    loss.backward()\n",
    "    optimiser.step()\n",
    "\n",
    "    \n"
   ]
  },
  {
   "cell_type": "code",
   "execution_count": 424,
   "id": "d6f64ecf-9071-4b4b-a383-709a4d3265e8",
   "metadata": {},
   "outputs": [
    {
     "data": {
      "text/plain": [
       "[<matplotlib.lines.Line2D at 0x10f9257d0>]"
      ]
     },
     "execution_count": 424,
     "metadata": {},
     "output_type": "execute_result"
    },
    {
     "data": {
      "image/png": "[encoded data removed]",
      "text/plain": [
       "<Figure size 640x480 with 1 Axes>"
      ]
     },
     "metadata": {},
     "output_type": "display_data"
    }
   ],
   "source": [
    "plt.plot(all_losses)"
   ]
  },
  {
   "cell_type": "code",
   "execution_count": 425,
   "id": "4409a655-8851-4a0e-b926-f985c755c218",
   "metadata": {},
   "outputs": [
    {
     "name": "stdout",
     "output_type": "stream",
     "text": [
      "<built-in method type of Tensor object at 0x10f971790>\n"
     ]
    }
   ],
   "source": [
    "print(test_x.type)"
   ]
  },
  {
   "cell_type": "code",
   "execution_count": 426,
   "id": "7423bd5b-7308-4c11-854f-22eca7460952",
   "metadata": {},
   "outputs": [],
   "source": [
    "with torch.no_grad():\n",
    "    output = model(test_x)\n",
    "    output = output.squeeze()\n",
    "    prediction = output.detach().numpy()\n",
    "    "
   ]
  },
  {
   "cell_type": "code",
   "execution_count": 427,
   "id": "6a6c162e-0fd5-42d1-81a1-4a37c0c2f779",
   "metadata": {},
   "outputs": [],
   "source": [
    "predicted_boolean = []\n",
    "\n",
    "for x in prediction:\n",
    "    if(x>=0.5):\n",
    "        predicted_boolean.append(1)\n",
    "    else:\n",
    "        predicted_boolean.append(0)"
   ]
  },
  {
   "cell_type": "code",
   "execution_count": 428,
   "id": "11eb652f-9f0e-4156-995a-26b4d2b87c8b",
   "metadata": {},
   "outputs": [
    {
     "name": "stdout",
     "output_type": "stream",
     "text": [
      "96.49122807017544\n"
     ]
    }
   ],
   "source": [
    "#evaluation predicted and test_y using eval class\n",
    "\n",
    "class eval:\n",
    "    def __init__(self):\n",
    "        self.hits = 0\n",
    "    def prediction_eval(self,predicted_boolean,test_y):\n",
    "        n = len(predicted_boolean)\n",
    "        for i in range(n):\n",
    "            if(predicted_boolean[i] == test_y[i]):\n",
    "                self.hits+=1\n",
    "        return self.hits\n",
    "\n",
    "n = len(predicted_boolean)\n",
    "eval = eval()\n",
    "hits = eval.prediction_eval(predicted_boolean,test_y)\n",
    "model_accuracy = (hits/n)*100\n",
    "print(model_accuracy)"
   ]
  }
 ],
 "metadata": {
  "kernelspec": {
   "display_name": "Python 3 (ipykernel)",
   "language": "python",
   "name": "python3"
  },
  "language_info": {
   "codemirror_mode": {
    "name": "ipython",
    "version": 3
   },
   "file_extension": ".py",
   "mimetype": "text/x-python",
   "name": "python",
   "nbconvert_exporter": "python",
   "pygments_lexer": "ipython3",
   "version": "3.11.7"
  }
 },
 "nbformat": 4,
 "nbformat_minor": 5
}
